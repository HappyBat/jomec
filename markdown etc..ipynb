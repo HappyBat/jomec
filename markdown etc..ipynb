{
 "cells": [
  {
   "cell_type": "markdown",
   "metadata": {},
   "source": [
    "* (markdown is a lightweight markup language)\n",
    "\n",
    "* ESC               toggle to command mode (GREEN vs BLUE / pencil)\n",
    "* ESC               +M: convert cell to markdown, +A: new cell before, +B: new cell after \n",
    "* ESC               +DD: delete a cell)\n",
    "                    \n",
    "* TAB\t\t\t    code complete\n",
    "\n",
    "* TAB\t\t\t    indent\n",
    "* SHIFT + TAB\t\tdedent\n",
    "\n",
    "* SHIFT + ENTER\trun cell and move to next\n",
    "* CTRL + ENTER\trun cell only\n",
    "* OPTION + ENTER\trun and insert cell\n",
    "\n",
    "* CMD + /\t\t    insert comment\n",
    "* SHIFT             allows you to select multiple cells\n",
    "* SHIFT + M         merge several selected cells\n",
    "\n"
   ]
  },
  {
   "cell_type": "markdown",
   "metadata": {},
   "source": [
    "# H1 (1 #)\n",
    "\n",
    "## h2  (2 #)\n",
    "\n",
    "### h3 (3 #)\n",
    "\n",
    "* asterisk followed by space\n",
    "\n",
    "\n",
    "1. number followed by point\n",
    "\n",
    "\n",
    "Use '>' for indented quotes:\n",
    "\n",
    "> Don't forget to comment\n",
    "> your code, as much for \n",
    "> yourself as for us!\n",
    "\n",
    "*Inside a set of asterisks you'll get italics*\n",
    "\n",
    "__Inside a set of dunders you'll get bold__"
   ]
  },
  {
   "cell_type": "markdown",
   "metadata": {},
   "source": []
  },
  {
   "cell_type": "code",
   "execution_count": 23,
   "metadata": {},
   "outputs": [],
   "source": [
    "a = 6\n",
    "\n",
    "b = 4\n",
    "\n",
    "answer = a + b"
   ]
  },
  {
   "cell_type": "code",
   "execution_count": 26,
   "metadata": {},
   "outputs": [
    {
     "data": {
      "text/plain": [
       "10"
      ]
     },
     "execution_count": 26,
     "metadata": {},
     "output_type": "execute_result"
    }
   ],
   "source": [
    "answer"
   ]
  },
  {
   "cell_type": "code",
   "execution_count": null,
   "metadata": {},
   "outputs": [],
   "source": []
  }
 ],
 "metadata": {
  "kernelspec": {
   "display_name": "Python 3",
   "language": "python",
   "name": "python3"
  },
  "language_info": {
   "codemirror_mode": {
    "name": "ipython",
    "version": 3
   },
   "file_extension": ".py",
   "mimetype": "text/x-python",
   "name": "python",
   "nbconvert_exporter": "python",
   "pygments_lexer": "ipython3",
   "version": "3.7.3"
  }
 },
 "nbformat": 4,
 "nbformat_minor": 2
}
